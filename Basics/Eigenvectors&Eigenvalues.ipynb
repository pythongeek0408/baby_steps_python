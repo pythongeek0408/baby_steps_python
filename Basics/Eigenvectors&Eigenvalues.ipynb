{
  "nbformat": 4,
  "nbformat_minor": 0,
  "metadata": {
    "colab": {
      "name": "Eigenvectors&Eigenvalues",
      "provenance": [],
      "collapsed_sections": []
    },
    "kernelspec": {
      "name": "python3",
      "display_name": "Python 3"
    },
    "language_info": {
      "name": "python"
    }
  },
  "cells": [
    {
      "cell_type": "code",
      "execution_count": 10,
      "metadata": {
        "id": "PQkbVWcceLCn"
      },
      "outputs": [],
      "source": [
        "import numpy as np\n",
        "import torch \n",
        "import matplotlib.pyplot as plt"
      ]
    },
    {
      "cell_type": "code",
      "source": [
        "A = np.array([[-1,4],[2,-2]])\n",
        "A"
      ],
      "metadata": {
        "colab": {
          "base_uri": "https://localhost:8080/"
        },
        "id": "NAIdKnWmrT2t",
        "outputId": "70a41b0f-d447-4c3e-e421-834b80e2535a"
      },
      "execution_count": 2,
      "outputs": [
        {
          "output_type": "execute_result",
          "data": {
            "text/plain": [
              "array([[-1,  4],\n",
              "       [ 2, -2]])"
            ]
          },
          "metadata": {},
          "execution_count": 2
        }
      ]
    },
    {
      "cell_type": "code",
      "source": [
        "values,V = np.linalg.eig(A)\n",
        "print(\"Eigen values: \",values,'\\n')\n",
        "print(\"Eigenvectors: \\n\",V)"
      ],
      "metadata": {
        "colab": {
          "base_uri": "https://localhost:8080/"
        },
        "id": "g0T555s4upxV",
        "outputId": "cdce488d-d03f-4437-c443-dc0ede1b7e09"
      },
      "execution_count": 5,
      "outputs": [
        {
          "output_type": "stream",
          "name": "stdout",
          "text": [
            "Eigen values:  [ 1.37228132 -4.37228132] \n",
            "\n",
            "Eigenvectors: \n",
            " [[ 0.86011126 -0.76454754]\n",
            " [ 0.51010647  0.64456735]]\n"
          ]
        }
      ]
    },
    {
      "cell_type": "code",
      "source": [
        "v1 = V[:,0]\n",
        "v1"
      ],
      "metadata": {
        "colab": {
          "base_uri": "https://localhost:8080/"
        },
        "id": "LLo6_fmRyoS1",
        "outputId": "8c7b5424-a051-4470-97c4-af8636840c84"
      },
      "execution_count": 12,
      "outputs": [
        {
          "output_type": "execute_result",
          "data": {
            "text/plain": [
              "array([0.86011126, 0.51010647])"
            ]
          },
          "metadata": {},
          "execution_count": 12
        }
      ]
    },
    {
      "cell_type": "code",
      "source": [
        "lambda1 = values[0]\n",
        "lambda1"
      ],
      "metadata": {
        "colab": {
          "base_uri": "https://localhost:8080/"
        },
        "id": "_QbOVJ53zNHf",
        "outputId": "13be0968-991b-44af-a4a8-58f641bad066"
      },
      "execution_count": 15,
      "outputs": [
        {
          "output_type": "execute_result",
          "data": {
            "text/plain": [
              "1.3722813232690143"
            ]
          },
          "metadata": {},
          "execution_count": 15
        }
      ]
    },
    {
      "cell_type": "code",
      "source": [
        "#A*v = lambda*v \n",
        "Av1 = (np.dot(A,v1))\n",
        "lv1 =(np.dot(v1,lambda1))\n",
        "\n",
        "print(Av1)\n",
        "print(lv1)"
      ],
      "metadata": {
        "colab": {
          "base_uri": "https://localhost:8080/"
        },
        "id": "JpUSVD60ze5n",
        "outputId": "9e4fd932-09a8-4d9d-e16e-e1c90532d26b"
      },
      "execution_count": 28,
      "outputs": [
        {
          "output_type": "stream",
          "name": "stdout",
          "text": [
            "[1.18031462 0.70000958]\n",
            "[1.18031462 0.70000958]\n"
          ]
        }
      ]
    },
    {
      "cell_type": "code",
      "source": [
        "def plot_vectors(vectors, colors): #\n",
        "    \"\"\"\n",
        "    Plot one or more vectors in a 2D plane, specifying a color for each. \n",
        "\n",
        "    Arguments\n",
        "    ---------\n",
        "    vectors: list of lists or of arrays\n",
        "        Coordinates of the vectors to plot. For example, [[1, 3], [2, 2]] \n",
        "        contains two vectors to plot, [1, 3] and [2, 2].\n",
        "    colors: list\n",
        "        Colors of the vectors. For instance: ['red', 'blue'] will display the\n",
        "        first vector in red and the second in blue.\n",
        "        \n",
        "    Example\n",
        "    -------\n",
        "    plot_vectors([[1, 3], [2, 2]], ['red', 'blue'])\n",
        "    plt.xlim(-1, 4)\n",
        "    plt.ylim(-1, 4)\n",
        "    \"\"\"\n",
        "    plt.figure()\n",
        "    plt.axvline(x=0, color='lightgray')\n",
        "    plt.axhline(y=0, color='lightgray')\n",
        "\n",
        "    for i in range(len(vectors)):\n",
        "        x = np.concatenate([[0,0],vectors[i]])\n",
        "        plt.quiver([x[0]], [x[1]], [x[2]], [x[3]],\n",
        "                   angles='xy', scale_units='xy', scale=1, color=colors[i],)"
      ],
      "metadata": {
        "id": "x-d_cEkP12N2"
      },
      "execution_count": 29,
      "outputs": []
    },
    {
      "cell_type": "code",
      "source": [
        "plot_vectors([Av1,v1],['lightblue','blue']) \n",
        "plt.xlim(-0,2)\n",
        "_ = plt.ylim(-0,2)"
      ],
      "metadata": {
        "colab": {
          "base_uri": "https://localhost:8080/",
          "height": 269
        },
        "id": "PTZiLMM72UZ2",
        "outputId": "0aa1b68b-bb5a-4f38-af6c-606e1376d76a"
      },
      "execution_count": 31,
      "outputs": [
        {
          "output_type": "display_data",
          "data": {
            "text/plain": [
              "<Figure size 432x288 with 1 Axes>"
            ],
            "image/png": "[encoded data removed]"
          },
          "metadata": {
            "needs_background": "light"
          }
        }
      ]
    },
    {
      "cell_type": "code",
      "source": [
        "#vector2\n",
        "\n",
        "v2 = V[:,1]\n",
        "lambda2 = values[1]\n",
        "\n",
        "Av2 = np.dot(A,v2)\n",
        "lv2 = np.dot(v2,lambda2)\n",
        "\n",
        "print(Av2,\"\\n\",lv2)plot_vectors([v,Rv],['lightblue','blue']) \n",
        "plt.xlim(-4,5)\n",
        "_ = plt.ylim(-4,3)"
      ],
      "metadata": {
        "colab": {
          "base_uri": "https://localhost:8080/"
        },
        "id": "WaeXfYmY3j7J",
        "outputId": "2511dec7-17a3-4ad5-a875-a4b6f04fed91"
      },
      "execution_count": 34,
      "outputs": [
        {
          "output_type": "stream",
          "name": "stdout",
          "text": [
            "[ 3.34281692 -2.81822977] \n",
            " [ 3.34281692 -2.81822977]\n"
          ]
        }
      ]
    },
    {
      "cell_type": "code",
      "source": [
        "plot_vectors([Av2,v2],['lightblue','blue']) \n",
        "plt.xlim(-5,5)\n",
        "_ = plt.ylim(-5,5)"
      ],
      "metadata": {
        "colab": {
          "base_uri": "https://localhost:8080/",
          "height": 265
        },
        "id": "ksohwvg64fPN",
        "outputId": "779dab85-f44e-4fbc-b7dc-aec43f555c46"
      },
      "execution_count": 35,
      "outputs": [
        {
          "output_type": "display_data",
          "data": {
            "text/plain": [
              "<Figure size 432x288 with 1 Axes>"
            ],
            "image/png": "[encoded data removed]"
          },
          "metadata": {
            "needs_background": "light"
          }
        }
      ]
    },
    {
      "cell_type": "code",
      "source": [
        "#-------------------------------------PYTORCH------------------------------------------------#"
      ],
      "metadata": {
        "id": "dVAjNrQN5e7O"
      },
      "execution_count": null,
      "outputs": []
    },
    {
      "cell_type": "code",
      "source": [
        "A_p = torch.tensor([[-1,4],[2,-2.]])\n",
        "A_p"
      ],
      "metadata": {
        "colab": {
          "base_uri": "https://localhost:8080/"
        },
        "id": "a7Bmhpar5iYD",
        "outputId": "0c4394d8-7042-4fe5-9f81-e4c819ffb4f0"
      },
      "execution_count": 48,
      "outputs": [
        {
          "output_type": "execute_result",
          "data": {
            "text/plain": [
              "tensor([[-1.,  4.],\n",
              "        [ 2., -2.]])"
            ]
          },
          "metadata": {},
          "execution_count": 48
        }
      ]
    },
    {
      "cell_type": "code",
      "source": [
        "eigens = torch.eig(A_p,eigenvectors=True)\n",
        "print(eigens.eigenvectors)\n",
        "print(eigens.eigenvalues)"
      ],
      "metadata": {
        "colab": {
          "base_uri": "https://localhost:8080/"
        },
        "id": "Egqw0Poq6n38",
        "outputId": "6c76b27f-ee02-43f5-d741-4e087b250ad8"
      },
      "execution_count": 59,
      "outputs": [
        {
          "output_type": "stream",
          "name": "stdout",
          "text": [
            "tensor([[ 0.8601, -0.7645],\n",
            "        [ 0.5101,  0.6446]])\n",
            "tensor([[ 1.3723,  0.0000],\n",
            "        [-4.3723,  0.0000]])\n"
          ]
        }
      ]
    },
    {
      "cell_type": "code",
      "source": [
        "v1_p = eigens.eigenvectors[:,0]\n",
        "print(v1_p)\n",
        "\n",
        "lambda1_p = eigens.eigenvalues[0][0]\n",
        "print(lambda1_p)"
      ],
      "metadata": {
        "colab": {
          "base_uri": "https://localhost:8080/"
        },
        "id": "vhsDjT-D7nym",
        "outputId": "1674e672-752b-45a3-d9e1-58dfa7c83f1c"
      },
      "execution_count": 69,
      "outputs": [
        {
          "output_type": "stream",
          "name": "stdout",
          "text": [
            "tensor([0.8601, 0.5101])\n",
            "tensor(1.3723)\n"
          ]
        }
      ]
    },
    {
      "cell_type": "code",
      "source": [
        "Av1_p=(torch.matmul(A_p,v1_p))\n",
        "(v1_p*lambda1_p)"
      ],
      "metadata": {
        "colab": {
          "base_uri": "https://localhost:8080/"
        },
        "id": "pplYTgVL95x7",
        "outputId": "5f78c41e-e742-4828-9bff-8f8fd3ff33ec"
      },
      "execution_count": 71,
      "outputs": [
        {
          "output_type": "execute_result",
          "data": {
            "text/plain": [
              "tensor([1.1803, 0.7000])"
            ]
          },
          "metadata": {},
          "execution_count": 71
        }
      ]
    },
    {
      "cell_type": "code",
      "source": [
        "plot_vectors([Av1_p,v1_p],['lightblue','blue']) \n",
        "plt.xlim(0,2)\n",
        "_ = plt.ylim(0,2)"
      ],
      "metadata": {
        "colab": {
          "base_uri": "https://localhost:8080/",
          "height": 269
        },
        "id": "X6iuOZSj-kVc",
        "outputId": "9fc1b3c0-182f-44e3-8b6d-5f751254904b"
      },
      "execution_count": 73,
      "outputs": [
        {
          "output_type": "display_data",
          "data": {
            "text/plain": [
              "<Figure size 432x288 with 1 Axes>"
            ],
            "image/png": "[encoded data removed]"
          },
          "metadata": {
            "needs_background": "light"
          }
        }
      ]
    },
    {
      "cell_type": "code",
      "source": [
        "#3D -eigenvectors\n",
        "\n",
        "B = torch.tensor([[25,2,9],[5,26,-5],[3,7,-1.]])\n",
        "B"
      ],
      "metadata": {
        "colab": {
          "base_uri": "https://localhost:8080/"
        },
        "id": "22B2HwHKAgtV",
        "outputId": "49ad40c5-8f26-41de-d3f2-b200b27b087f"
      },
      "execution_count": 79,
      "outputs": [
        {
          "output_type": "execute_result",
          "data": {
            "text/plain": [
              "tensor([[25.,  2.,  9.],\n",
              "        [ 5., 26., -5.],\n",
              "        [ 3.,  7., -1.]])"
            ]
          },
          "metadata": {},
          "execution_count": 79
        }
      ]
    },
    {
      "cell_type": "code",
      "source": [
        "eigens1 = torch.eig(B,eigenvectors=True)\n",
        "print(eigens1.eigenvalues)\n",
        "print(eigens1.eigenvectors)"
      ],
      "metadata": {
        "colab": {
          "base_uri": "https://localhost:8080/"
        },
        "id": "uUz8_SKOA5ez",
        "outputId": "eea4b485-785e-4bbb-cfdc-c5737b3c0690"
      },
      "execution_count": 81,
      "outputs": [
        {
          "output_type": "stream",
          "name": "stdout",
          "text": [
            "tensor([[29.6762,  0.0000],\n",
            "        [20.6212,  0.0000],\n",
            "        [-0.2974,  0.0000]])\n",
            "tensor([[ 0.7118,  0.6502, -0.3422],\n",
            "        [ 0.6665, -0.7446,  0.2379],\n",
            "        [ 0.2217, -0.1509,  0.9090]])\n"
          ]
        }
      ]
    },
    {
      "cell_type": "code",
      "source": [
        "v1  = eigens1.eigenvectors[:,0]\n",
        "print(v1)\n",
        "\n",
        "Bv1 = torch.matmul(B,v1)\n",
        "print(Bv1)\n",
        "\n",
        "lambdav1 = v1*(eigens1.eigenvalues[0][0])\n",
        "print(lambdav1)"
      ],
      "metadata": {
        "colab": {
          "base_uri": "https://localhost:8080/"
        },
        "id": "79RH97jqCGsh",
        "outputId": "5b009243-6a57-4534-ff81-c7c35a48c371"
      },
      "execution_count": 89,
      "outputs": [
        {
          "output_type": "stream",
          "name": "stdout",
          "text": [
            "tensor([0.7118, 0.6665, 0.2217])\n",
            "tensor([21.1223, 19.7798,  6.5792])\n",
            "tensor([21.1223, 19.7798,  6.5792])\n"
          ]
        }
      ]
    },
    {
      "cell_type": "code",
      "source": [
        "v2  = eigens1.eigenvectors[:,1]\n",
        "print(v2)\n",
        "\n",
        "Bv2 = torch.matmul(B,v2)\n",
        "print(Bv2)\n",
        "\n",
        "lambdav2 = v2*(eigens1.eigenvalues[1][0])\n",
        "print(lambdav2)"
      ],
      "metadata": {
        "colab": {
          "base_uri": "https://localhost:8080/"
        },
        "id": "v1ag8ellDXXY",
        "outputId": "12cf690e-c4f8-4295-c610-d4c2d4a02dcb"
      },
      "execution_count": 90,
      "outputs": [
        {
          "output_type": "stream",
          "name": "stdout",
          "text": [
            "tensor([ 0.6502, -0.7446, -0.1509])\n",
            "tensor([ 13.4077, -15.3554,  -3.1110])\n",
            "tensor([ 13.4077, -15.3554,  -3.1110])\n"
          ]
        }
      ]
    },
    {
      "cell_type": "code",
      "source": [
        "v3  = eigens1.eigenvectors[:,2]\n",
        "print(v3)\n",
        "\n",
        "Bv3 = torch.matmul(B,v3)\n",
        "print(Bv3)\n",
        "\n",
        "lambdav3 = v3*(eigens1.eigenvalues[2][0])\n",
        "print(lambdav3)"
      ],
      "metadata": {
        "colab": {
          "base_uri": "https://localhost:8080/"
        },
        "id": "UrCO6OH-DlJI",
        "outputId": "5ab5cab3-092f-4dbe-e5f0-76964427af1d"
      },
      "execution_count": 91,
      "outputs": [
        {
          "output_type": "stream",
          "name": "stdout",
          "text": [
            "tensor([-0.3422,  0.2379,  0.9090])\n",
            "tensor([ 0.1018, -0.0708, -0.2703])\n",
            "tensor([ 0.1018, -0.0708, -0.2703])\n"
          ]
        }
      ]
    },
    {
      "cell_type": "code",
      "source": [
        "plot_vectors([v1,Bv1],['lightblue','blue'])\n",
        "plt.xlim(-25,25)\n",
        "_ = plt.ylim(-25,25)\n"
      ],
      "metadata": {
        "colab": {
          "base_uri": "https://localhost:8080/",
          "height": 265
        },
        "id": "vexiADgnD2jr",
        "outputId": "d8dd76c3-8ade-488c-e228-96f2c32af4a2"
      },
      "execution_count": 93,
      "outputs": [
        {
          "output_type": "display_data",
          "data": {
            "text/plain": [
              "<Figure size 432x288 with 1 Axes>"
            ],
            "image/png": "[encoded data removed]"
          },
          "metadata": {
            "needs_background": "light"
          }
        }
      ]
    }
  ]
}