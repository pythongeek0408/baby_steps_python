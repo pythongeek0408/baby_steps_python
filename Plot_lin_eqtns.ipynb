{
  "nbformat": 4,
  "nbformat_minor": 0,
  "metadata": {
    "colab": {
      "name": "Plot_lin_eqtns.ipynb",
      "provenance": [],
      "collapsed_sections": [],
      "authorship_tag": "ABX9TyMDjG7Vd1Ym4KGsn3qIbYcU",
      "include_colab_link": true
    },
    "kernelspec": {
      "name": "python3",
      "display_name": "Python 3"
    },
    "language_info": {
      "name": "python"
    }
  },
  "cells": [
    {
      "cell_type": "markdown",
      "metadata": {
        "id": "view-in-github",
        "colab_type": "text"
      },
      "source": [
        "<a href=\"https://colab.research.google.com/github/pythongeek0408/baby_steps_python/blob/main/Plot_lin_eqtns.ipynb\" target=\"_parent\"><img src=\"https://colab.research.google.com/assets/colab-badge.svg\" alt=\"Open In Colab\"/></a>"
      ]
    },
    {
      "cell_type": "code",
      "execution_count": 7,
      "metadata": {
        "id": "iGbvnlBUIb0r"
      },
      "outputs": [],
      "source": [
        "import numpy as np\n",
        "import matplotlib.pyplot as plt"
      ]
    },
    {
      "cell_type": "code",
      "source": [
        "x =np.linspace(-10,10,1000) #start and finish points for plots"
      ],
      "metadata": {
        "id": "NT19aS6gKuHU"
      },
      "execution_count": 3,
      "outputs": []
    },
    {
      "cell_type": "code",
      "source": [
        "y1 = 3*x"
      ],
      "metadata": {
        "id": "Iki7ITIyK8At"
      },
      "execution_count": 4,
      "outputs": []
    },
    {
      "cell_type": "code",
      "source": [
        "y2 = 1+(5*x)/2"
      ],
      "metadata": {
        "id": "-9yw_xwaLAYT"
      },
      "execution_count": 5,
      "outputs": []
    },
    {
      "cell_type": "code",
      "source": [
        "fig,ax = plt.subplots()\n",
        "plt.xlabel(\"x\")\n",
        "plt.ylabel(\"y\")\n",
        "ax.set_xlim([0,8])\n",
        "ax.set_ylim([0,8])\n",
        "ax.plot(x,y1,c='green')\n",
        "ax.plot(x,y2,c='brown')\n",
        "\n",
        "plt.axvline(x=2,color = 'purple', linestyle='--')\n",
        "plt.axhline(y=6, color ='purple',linestyle='--')"
      ],
      "metadata": {
        "colab": {
          "base_uri": "https://localhost:8080/",
          "height": 300
        },
        "id": "H1GVbnDALF_X",
        "outputId": "d27e3339-d9f0-4fe9-8599-2573273be602"
      },
      "execution_count": 13,
      "outputs": [
        {
          "output_type": "execute_result",
          "data": {
            "text/plain": [
              "<matplotlib.lines.Line2D at 0x7f1813cd3ad0>"
            ]
          },
          "metadata": {},
          "execution_count": 13
        },
        {
          "output_type": "display_data",
          "data": {
            "text/plain": [
              "<Figure size 432x288 with 1 Axes>"
            ],
            "image/png": "[encoded data removed]"
          },
          "metadata": {
            "needs_background": "light"
          }
        }
      ]
    },
    {
      "cell_type": "code",
      "source": [
        "y3 = (2*x-15)/3\n",
        "y4 = (14-4*x)/10\n"
      ],
      "metadata": {
        "id": "X1yZkeYcOOoG"
      },
      "execution_count": 17,
      "outputs": []
    },
    {
      "cell_type": "code",
      "source": [
        "fig,ax = plt.subplots()\n",
        "plt.xlabel('x')\n",
        "plt.ylabel('y')\n",
        "ax.set_xlim([-8,8])\n",
        "ax.set_ylim([-8,8])\n",
        "ax.plot(x,y3,c='green')\n",
        "ax.plot(x,y4,c='red')\n",
        "\n",
        "plt.axhline(y=0,color ='lightgrey')\n",
        "plt.axvline(x=0, color='lightgrey')\n",
        "\n",
        "plt.axhline(y=-1,color ='purple',linestyle='--')\n",
        "plt.axvline(x=6, color='purple',linestyle='--')"
      ],
      "metadata": {
        "colab": {
          "base_uri": "https://localhost:8080/",
          "height": 300
        },
        "id": "kKwWkWNgOi6c",
        "outputId": "632576b9-cb38-4409-ba38-521db96ca4ad"
      },
      "execution_count": 19,
      "outputs": [
        {
          "output_type": "execute_result",
          "data": {
            "text/plain": [
              "<matplotlib.lines.Line2D at 0x7f1813c071d0>"
            ]
          },
          "metadata": {},
          "execution_count": 19
        },
        {
          "output_type": "display_data",
          "data": {
            "text/plain": [
              "<Figure size 432x288 with 1 Axes>"
            ],
            "image/png": "[encoded data removed]"
          },
          "metadata": {
            "needs_background": "light"
          }
        }
      ]
    }
  ]
}